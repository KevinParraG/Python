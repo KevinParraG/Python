{
 "cells": [
  {
   "cell_type": "markdown",
   "metadata": {},
   "source": [
    "# Estructura para los productos de una tienda"
   ]
  },
  {
   "cell_type": "markdown",
   "metadata": {},
   "source": [
    "## Creando una jerarquía de productos con clases\n",
    "### Superclase Producto"
   ]
  },
  {
   "cell_type": "code",
   "execution_count": 5,
   "metadata": {},
   "outputs": [],
   "source": [
    "class Producto:\n",
    "    def __init__(self,referencia,nombre,pvp,descripcion):\n",
    "        self.referencia = referencia\n",
    "        self.nombre = nombre\n",
    "        self.pvp = pvp\n",
    "        self.descripcion = descripcion\n",
    "        \n",
    "    def __str__(self):\n",
    "        return \"\"\"\\\n",
    "            REFERENCIA\\t{}\n",
    "            NOMBRE\\t\\t{}\n",
    "            PVP\\t\\t{}\n",
    "            DESCRIPCIÓN\\t{}\"\"\".format(self.referencia,self.nombre,self.pvp,self.descripcion)"
   ]
  },
  {
   "cell_type": "markdown",
   "metadata": {},
   "source": [
    "### Subclase Adorno"
   ]
  },
  {
   "cell_type": "code",
   "execution_count": 6,
   "metadata": {},
   "outputs": [
    {
     "name": "stdout",
     "output_type": "stream",
     "text": [
      "15\n"
     ]
    },
    {
     "data": {
      "text/plain": [
       "__main__.Adorno"
      ]
     },
     "execution_count": 6,
     "metadata": {},
     "output_type": "execute_result"
    }
   ],
   "source": [
    "class Adorno(Producto):\n",
    "    pass\n",
    "\n",
    "a = Adorno(2034,\"Vaso adornado\",15,\"Vaso de porcelana adornado con árboles\")\n",
    "print(a.pvp)\n",
    "type (a)"
   ]
  },
  {
   "cell_type": "markdown",
   "metadata": {},
   "source": [
    "### Subclase Alimento"
   ]
  },
  {
   "cell_type": "code",
   "execution_count": 10,
   "metadata": {},
   "outputs": [],
   "source": [
    "class Alimento(Producto):\n",
    "    productor = \"\"\n",
    "    distribuidor = \"\"\n",
    "    \n",
    "    def __init__(self, productor, distribuidor, referencia,nombre,pvp,descripcion):\n",
    "        Producto.__init__(self,referencia,nombre,pvp,descripcion)#Es necesario llamar a los atributos del padre si queremos usarlo con atributos propios\n",
    "        self.productor = productor\n",
    "        self.distribuidor = distribuidor\n",
    "       \n",
    "    def __str__(self):\n",
    "        return \"\"\"\\\n",
    "            REFERENCIA\\t{}\n",
    "            NOMBRE\\t\\t{}\n",
    "            PVP\\t\\t{}\n",
    "            DESCRIPCIÓN\\t{}\n",
    "            PRODUCTOR\\t{}\n",
    "            DISTRIBUIDOR\\t{}\"\"\".format(self.referencia,self.nombre,self.pvp,self.descripcion,self.productor,self.distribuidor)\n"
   ]
  },
  {
   "cell_type": "code",
   "execution_count": 11,
   "metadata": {},
   "outputs": [],
   "source": [
    "alimento1 = Alimento(\"Productor1\",\"Consumidor1\",\"REF1\", \"Manzanas\", 20, \"Manzanas especiales\")"
   ]
  },
  {
   "cell_type": "code",
   "execution_count": 12,
   "metadata": {},
   "outputs": [
    {
     "data": {
      "text/plain": [
       "'REF1'"
      ]
     },
     "execution_count": 12,
     "metadata": {},
     "output_type": "execute_result"
    }
   ],
   "source": [
    "alimento1.referencia"
   ]
  },
  {
   "cell_type": "code",
   "execution_count": 13,
   "metadata": {},
   "outputs": [
    {
     "name": "stdout",
     "output_type": "stream",
     "text": [
      "            REFERENCIA\tREF1\n",
      "            NOMBRE\t\tManzanas\n",
      "            PVP\t\t20\n",
      "            DESCRIPCIÓN\tManzanas especiales\n",
      "            PRODUCTOR\tProductor1\n",
      "            DISTRIBUIDOR\tConsumidor1\n"
     ]
    }
   ],
   "source": [
    "print(alimento1)"
   ]
  },
  {
   "cell_type": "markdown",
   "metadata": {},
   "source": [
    "### Subclase Libro"
   ]
  },
  {
   "cell_type": "code",
   "execution_count": 19,
   "metadata": {},
   "outputs": [],
   "source": [
    "class Libro(Producto):\n",
    "    isbn = \"\"\n",
    "    autor = \"\"\n",
    "    \n",
    "    def __init__(self, isbn, autor, referencia,nombre,pvp,descripcion):\n",
    "        Producto.__init__(self,referencia,nombre,pvp,descripcion)\n",
    "        self.isbn = isbn\n",
    "        self.autor = autor\n",
    "    \n",
    "    def __str__(self):\n",
    "        return \"\"\"\\\n",
    "            REFERENCIA\\t{}\n",
    "            NOMBRE\\t\\t{}\n",
    "            PVP\\t\\t{}\n",
    "            DESCRIPCIÓN\\t{}\n",
    "            ISBN\\t\\t{}\n",
    "            AUTOR\\t\\t{}\"\"\".format(self.referencia,self.nombre,self.pvp,self.descripcion,self.isbn,self.autor)\n",
    "    \n"
   ]
  },
  {
   "cell_type": "code",
   "execution_count": 20,
   "metadata": {},
   "outputs": [
    {
     "data": {
      "text/plain": [
       "'            REFERENCIA\\tREF2\\n            NOMBRE\\t\\tCocina Mediterránea\\n            PVP\\t\\t9\\n            DESCRIPCIÓN\\tRecetas sanas y buenas\\n            ISBN\\t\\t1231232A\\n            AUTOR\\t\\tAutor1'"
      ]
     },
     "execution_count": 20,
     "metadata": {},
     "output_type": "execute_result"
    }
   ],
   "source": [
    "libro = Libro(\"1231232A\", \"Autor1\", \"REF2\",\"Cocina Mediterránea\",9,\"Recetas sanas y buenas\")\n",
    "str(libro)"
   ]
  }
 ],
 "metadata": {
  "kernelspec": {
   "display_name": "Python 3",
   "language": "python",
   "name": "python3"
  },
  "language_info": {
   "codemirror_mode": {
    "name": "ipython",
    "version": 3
   },
   "file_extension": ".py",
   "mimetype": "text/x-python",
   "name": "python",
   "nbconvert_exporter": "python",
   "pygments_lexer": "ipython3",
   "version": "3.11.3"
  }
 },
 "nbformat": 4,
 "nbformat_minor": 4
}
